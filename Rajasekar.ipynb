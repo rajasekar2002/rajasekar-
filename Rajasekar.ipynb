{
  "nbformat": 4,
  "nbformat_minor": 0,
  "metadata": {
    "colab": {
      "provenance": [],
      "collapsed_sections": []
    },
    "kernelspec": {
      "name": "python3",
      "display_name": "Python 3"
    },
    "language_info": {
      "name": "python"
    },
    "accelerator": "GPU"
  },
  "cells": [
    {
      "cell_type": "code",
      "execution_count": 1,
      "metadata": {
        "colab": {
          "base_uri": "https://localhost:8080/"
        },
        "id": "5qa0Yf_gRcbZ",
        "outputId": "4ca7dc6d-985d-463a-de0c-a9568f7a6e99"
      },
      "outputs": [
        {
          "output_type": "stream",
          "name": "stdout",
          "text": [
            "14\n",
            "14  is Not a prime number\n"
          ]
        }
      ],
      "source": [
        "n=int(input())\n",
        "c=int(n/2)\n",
        "t=0\n",
        "for i in range(2,n):\n",
        "  if(n%i==0):\n",
        "    t+=1\n",
        "if(t==0):\n",
        "  print(n,\" is a prime number \")\n",
        "else:       \n",
        "  print(n,\" is Not a prime number\")"
      ]
    },
    {
      "cell_type": "code",
      "source": [
        "n=int(input())\n",
        "a=1\n",
        "while(a<=n):\n",
        "  if(a%2!=0):\n",
        "    print(a)\n",
        "  a=a+1"
      ],
      "metadata": {
        "colab": {
          "base_uri": "https://localhost:8080/"
        },
        "id": "DRi-VbVtSGIp",
        "outputId": "8b3adb62-9493-4cdb-ead0-10e5f4b1ceae"
      },
      "execution_count": 3,
      "outputs": [
        {
          "output_type": "stream",
          "name": "stdout",
          "text": [
            "10\n",
            "1\n",
            "3\n",
            "5\n",
            "7\n",
            "9\n"
          ]
        }
      ]
    },
    {
      "cell_type": "code",
      "source": [
        "def isPrime(n):\n",
        "  if(n==1 or n==0):\n",
        "    return False\n",
        "  for i in range(2,n):\n",
        "    if(n%i==0):\n",
        "      return False\n",
        "  return True\n",
        "\n",
        "N =int(input())\n",
        "for i in range(1,N+1):\n",
        "  if(isPrime(i)):\n",
        "    print(i,end=\" \")"
      ],
      "metadata": {
        "colab": {
          "base_uri": "https://localhost:8080/"
        },
        "id": "6ZWOz6g4Su4X",
        "outputId": "1791996e-fd7e-425d-faa0-1c36adadeaf6"
      },
      "execution_count": 4,
      "outputs": [
        {
          "output_type": "stream",
          "name": "stdout",
          "text": [
            "100\n",
            "2 3 5 7 11 13 17 19 23 29 31 37 41 43 47 53 59 61 67 71 73 79 83 89 97 "
          ]
        }
      ]
    },
    {
      "cell_type": "code",
      "source": [
        "num=int(input())\n",
        "n1, n2 = 0, 1\n",
        "print(\"Fibonacci Series:\", n1, n2, end=\" \")\n",
        "for i in range(2, num):\n",
        "    n3 = n1 + n2\n",
        "    n1 = n2\n",
        "    n2 = n3\n",
        "    print(n3, end=\" \")\n",
        "\n",
        "print()"
      ],
      "metadata": {
        "colab": {
          "base_uri": "https://localhost:8080/"
        },
        "id": "41J8mljHS6hb",
        "outputId": "0becd1a1-2449-4b4f-8599-c72d43c57b20"
      },
      "execution_count": 5,
      "outputs": [
        {
          "output_type": "stream",
          "name": "stdout",
          "text": [
            "10\n",
            "Fibonacci Series: 0 1 1 2 3 5 8 13 21 34 \n"
          ]
        }
      ]
    }
  ]
}